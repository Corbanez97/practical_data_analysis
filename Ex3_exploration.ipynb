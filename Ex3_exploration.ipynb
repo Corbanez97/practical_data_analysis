{
 "cells": [
  {
   "cell_type": "code",
   "execution_count": 1,
   "id": "0a69ec44-f8c8-4321-bbda-399254ceaece",
   "metadata": {},
   "outputs": [],
   "source": [
    "import stats_funcs.funcs as fs #In this module you will find the sampler and the linear interpolation\n",
    "import stats_funcs.stats as st #Here you shall find a series of basic statistics\n",
    "import matplotlib.pyplot as plt\n",
    "import numpy as np\n",
    "from math import ceil, floor\n",
    "from scipy.stats import kurtosis, skew\n",
    "import pickle\n",
    "from datetime import datetime"
   ]
  },
  {
   "cell_type": "code",
   "execution_count": null,
   "id": "e11156ca-2b67-4a34-a901-cd70d47cab8f",
   "metadata": {},
   "outputs": [
    {
     "name": "stdout",
     "output_type": "stream",
     "text": [
      "Using pickled arrays\n",
      "Pickle not found. Recalculating array...\n",
      "Creating distribution:  02/06/2022 18:56:41\n"
     ]
    },
    {
     "name": "stderr",
     "output_type": "stream",
     "text": [
      "/home/corbanez/Projects/practical_data_analysis/stats_funcs/funcs.py:46: RuntimeWarning: divide by zero encountered in double_scalars\n",
      "  a_i = (x[i+1] - x[i])/(cdf_x[i+1] - cdf_x[i])\n"
     ]
    },
    {
     "name": "stdout",
     "output_type": "stream",
     "text": [
      "Distribution created\n",
      "Calculating kurtosis:  02/06/2022 20:53:43\n",
      "Kurtosis calculated\n",
      "Creating distribution:  02/06/2022 20:53:43\n"
     ]
    }
   ],
   "source": [
    "sigma = 1\n",
    "x_0 = 0.001\n",
    "_k = ([])\n",
    "_N = ([200000, 200001, 200002, 200003])\n",
    "\n",
    "try:\n",
    "    \n",
    "    print('Using pickled arrays')\n",
    "    \n",
    "    _k = pickle.load(open(r'pickle/kurtosis_plot.pkl', 'rb'))\n",
    "    \n",
    "except FileNotFoundError:\n",
    "    \n",
    "    print('Pickle not found. Recalculating array...')\n",
    "    for N in _N:\n",
    "        print('Creating distribution: ', datetime.now().strftime(\"%d/%m/%Y %H:%M:%S\"))\n",
    "        skew_dist = fs.skewed_distribution(x_0, sigma, size = N, x_min = 0, x_max = 10)\n",
    "        print('Distribution created')\n",
    "        print('Calculating kurtosis: ', datetime.now().strftime(\"%d/%m/%Y %H:%M:%S\"))\n",
    "        k = kurtosis(skew_dist)\n",
    "        print('Kurtosis calculated')\n",
    "        _k = np.append(_k, k)\n",
    "\n",
    "    print('Complete all calculations: ', datetime.now().strftime(\"%d/%m/%Y %H:%M:%S\"))\n",
    "    with open(r'pickle/kurtosis_plot.pkl', 'wb') as f:\n",
    "        pickle.dump(_k, f)"
   ]
  },
  {
   "cell_type": "code",
   "execution_count": null,
   "id": "dee1c376-960b-4c47-a040-066c9ae31538",
   "metadata": {},
   "outputs": [],
   "source": [
    "plt.plot(_N, _k, label = 'Kurtosis of the Skewed Distribution')\n",
    "plt.axhspan(st.mean(_k) + 0.009,st.mean(_k) - 0.009, facecolor = 'g', alpha = 0.2, label = 'Values with double decimal place precision')\n",
    "plt.legend()\n",
    "plt.xlabel('N')\n",
    "plt.ylabel('Kurtosis')"
   ]
  },
  {
   "cell_type": "code",
   "execution_count": null,
   "id": "e2a350d7-2078-4511-91c7-6f99217f825d",
   "metadata": {},
   "outputs": [],
   "source": []
  }
 ],
 "metadata": {
  "kernelspec": {
   "display_name": "Python 3 (ipykernel)",
   "language": "python",
   "name": "python3"
  },
  "language_info": {
   "codemirror_mode": {
    "name": "ipython",
    "version": 3
   },
   "file_extension": ".py",
   "mimetype": "text/x-python",
   "name": "python",
   "nbconvert_exporter": "python",
   "pygments_lexer": "ipython3",
   "version": "3.10.4"
  }
 },
 "nbformat": 4,
 "nbformat_minor": 5
}
