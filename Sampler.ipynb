{
 "cells": [
  {
   "cell_type": "markdown",
   "id": "4fc838b4-2f67-43f0-a202-aca2cd53a95b",
   "metadata": {},
   "source": [
    "# Sampler"
   ]
  },
  {
   "cell_type": "markdown",
   "id": "869349e7-11da-47b4-9582-421a17d29d4d",
   "metadata": {},
   "source": [
    "Secondly, using a random sample generator from a uniform distribution, generate a random sample for $\\widetilde{X}(U_i)$ and plot histogram over a continuous version of the Gaussian distribution (interpolated and library given).\n",
    "\n",
    "The sampler was created based on [Wikipedia's](https://en.wikipedia.org/wiki/Inverse_transform_sampling) article on **Inverse Transform Sampling**."
   ]
  },
  {
   "cell_type": "code",
   "execution_count": null,
   "id": "31b1b976-35c4-424e-bbd9-4398234c6e8b",
   "metadata": {},
   "outputs": [],
   "source": []
  }
 ],
 "metadata": {
  "kernelspec": {
   "display_name": "Python 3 (ipykernel)",
   "language": "python",
   "name": "python3"
  },
  "language_info": {
   "codemirror_mode": {
    "name": "ipython",
    "version": 3
   },
   "file_extension": ".py",
   "mimetype": "text/x-python",
   "name": "python",
   "nbconvert_exporter": "python",
   "pygments_lexer": "ipython3",
   "version": "3.10.4"
  }
 },
 "nbformat": 4,
 "nbformat_minor": 5
}
